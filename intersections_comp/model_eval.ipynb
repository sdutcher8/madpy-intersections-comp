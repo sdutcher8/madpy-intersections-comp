{
 "cells": [
  {
   "cell_type": "code",
   "execution_count": 1,
   "metadata": {},
   "outputs": [],
   "source": [
    "from itertools import product\n",
    "\n",
    "import numpy as np\n",
    "import pandas as pd\n",
    "from sklearn.ensemble import GradientBoostingRegressor\n",
    "from sklearn.metrics import mean_squared_error\n",
    "from sklearn.model_selection import train_test_split\n",
    "from IPython.display import clear_output\n",
    "\n",
    "%matplotlib inline\n",
    "import matplotlib.pyplot as plt\n",
    "import seaborn as sns\n",
    "sns.set_context('talk')"
   ]
  },
  {
   "cell_type": "markdown",
   "metadata": {},
   "source": [
    "# Helper Functions"
   ]
  },
  {
   "cell_type": "code",
   "execution_count": 2,
   "metadata": {},
   "outputs": [],
   "source": [
    "def run_model(X, y):\n",
    "    # Split datasets for training and testing\n",
    "    X_train, X_test, y_train, y_test = train_test_split(\n",
    "        X, y, random_state=0,\n",
    "        train_size=0.8\n",
    "    )\n",
    "    \n",
    "    # Instantiate model with given hyperparameters\n",
    "    model = GradientBoostingRegressor(\n",
    "        n_estimators=10,\n",
    "    )\n",
    "    \n",
    "    # fit the model on one set of data\n",
    "    model.fit(X_train, y_train)  \n",
    "    \n",
    "    # evaluate the model on the second set of data\n",
    "    y_test_predict = model.predict(X_test)\n",
    "    return model, np.sqrt(mean_squared_error(y_test, y_test_predict))"
   ]
  },
  {
   "cell_type": "code",
   "execution_count": 3,
   "metadata": {},
   "outputs": [],
   "source": [
    "def direction_to_numbers(X):\n",
    "    direction = {'E':0, 'N':90, 'NE':45, 'NW':135, 'S':270, 'SE':315, 'SW':225, 'W':180}\n",
    "    \n",
    "    X[\"EntryHeading\"] = X[\"EntryHeading\"].apply(lambda x:direction[x])\n",
    "    X[\"ExitHeading\"] = X[\"ExitHeading\"].apply(lambda x:direction[x])\n",
    "    return X"
   ]
  },
  {
   "cell_type": "code",
   "execution_count": 4,
   "metadata": {},
   "outputs": [],
   "source": [
    "def turn_degrees(X):\n",
    "    X[\"TurnDegree\"] = (X[\"EntryHeading\"]-X[\"ExitHeading\"]).apply(lambda x: x if abs(x) <=180 else (x+360 if x<0 else x-360))\n",
    "    X[\"TurnDegree\"] = X[\"TurnDegree\"].apply(lambda x: x if x != -180 else x*-1)\n",
    "    return X"
   ]
  },
  {
   "cell_type": "code",
   "execution_count": 5,
   "metadata": {},
   "outputs": [],
   "source": [
    "def train_model(X_train, y_train, X_test,\n",
    "                Model=GradientBoostingRegressor, model_args={'n_estimators': 100}):\n",
    "    \"\"\" Train a scikit-learn model and return the predicted variable. \"\"\"\n",
    "    model = Model(**model_args)\n",
    "    model.fit(X_train, y_train)  \n",
    "    return model.predict(X_test)"
   ]
  },
  {
   "cell_type": "code",
   "execution_count": 6,
   "metadata": {},
   "outputs": [],
   "source": [
    "def write_solution(df_test, out_name='solution.csv'):\n",
    "    \"\"\" Write out a solution file in Kaggle's requested format.\n",
    "    Arguments\n",
    "    ---------\n",
    "    df_test : pd.DataFrame\n",
    "        Pandas dataframe with rows for each test sample in 'test.csv'\n",
    "        and the 6 variables being scored on as columns.\n",
    "    out_name : str\n",
    "        The output file name.\n",
    "    \"\"\"\n",
    "    dims = df_test.shape\n",
    "    vals = df_test.stack().to_numpy()\n",
    "    labels = [f'{row}_{col}' for row, col in product(range(dims[0]), range(dims[1]))]\n",
    "\n",
    "    df_out = pd.DataFrame(\n",
    "        {'Target': vals},\n",
    "        index=labels\n",
    "    )\n",
    "    df_out.index.name = 'TargetId'\n",
    "    df_out.to_csv(out_name + '.zip', compression='zip')"
   ]
  },
  {
   "cell_type": "markdown",
   "metadata": {},
   "source": [
    "### Load Data"
   ]
  },
  {
   "cell_type": "code",
   "execution_count": 7,
   "metadata": {},
   "outputs": [],
   "source": [
    "df_train = pd.read_csv('Data/train.csv')\n",
    "df_test = pd.read_csv('Data/test.csv')\n",
    "\n",
    "percentiles = [20, 40, 50, 60, 80]\n",
    "not_in_test = [f'TotalTimeStopped_p{i}' for i in percentiles]\n",
    "not_in_test += [f'TimeFromFirstStop_p{i}' for i in percentiles]\n",
    "not_in_test += [f'DistanceToFirstStop_p{i}' for i in percentiles]\n",
    "\n",
    "y = df_train['TotalTimeStopped_p80']"
   ]
  },
  {
   "cell_type": "markdown",
   "metadata": {},
   "source": [
    "# Initial performance comparison"
   ]
  },
  {
   "cell_type": "code",
   "execution_count": 8,
   "metadata": {},
   "outputs": [],
   "source": [
    "# Just drop all the string columns\n",
    "\n",
    "X_0 = df_train.drop(columns=not_in_test + ['RowId', 'EntryStreetName', 'ExitStreetName', 'Path', 'City', 'EntryHeading', 'ExitHeading'])\n",
    "\n",
    "model_0, score_0 = run_model(X_0, y)"
   ]
  },
  {
   "cell_type": "code",
   "execution_count": 9,
   "metadata": {},
   "outputs": [],
   "source": [
    "# Convert entry and exit directions from string to degrees\n",
    "\n",
    "X_1 = df_train.drop(columns=not_in_test + ['RowId', 'EntryStreetName', 'ExitStreetName', 'Path', 'City'])\n",
    "X_1 = direction_to_numbers(X_1)\n",
    "\n",
    "model_1, score_1 = run_model(X_1, y)"
   ]
  },
  {
   "cell_type": "code",
   "execution_count": 10,
   "metadata": {},
   "outputs": [],
   "source": [
    "# Additionally calculate the angle in degrees the cars are turning\n",
    "\n",
    "X_2 = df_train.drop(columns=not_in_test + ['RowId', 'EntryStreetName', 'ExitStreetName', 'Path', 'City'])\n",
    "X_2 = direction_to_numbers(X_2)\n",
    "X_2 = turn_degrees(X_2)\n",
    "\n",
    "model_2, score_2 = run_model(X_2, y)"
   ]
  },
  {
   "cell_type": "code",
   "execution_count": 11,
   "metadata": {},
   "outputs": [],
   "source": [
    "# Additionally add one hot encoding for City.\n",
    "\n",
    "X_3 = df_train.drop(columns=not_in_test + ['RowId', 'EntryStreetName', 'ExitStreetName', 'Path'])\n",
    "X_3 = direction_to_numbers(X_3)\n",
    "X_3 = turn_degrees(X_3)\n",
    "X_3 = pd.get_dummies(X_3, columns=['City'])\n",
    "\n",
    "model_3, score_3 = run_model(X_3, y)"
   ]
  },
  {
   "cell_type": "code",
   "execution_count": 12,
   "metadata": {},
   "outputs": [
    {
     "data": {
      "text/plain": [
       "(25, 30)"
      ]
     },
     "execution_count": 12,
     "metadata": {},
     "output_type": "execute_result"
    },
    {
     "data": {
      "image/png": "[encoded data removed]",
      "text/plain": [
       "<Figure size 864x576 with 1 Axes>"
      ]
     },
     "metadata": {
      "needs_background": "light"
     },
     "output_type": "display_data"
    }
   ],
   "source": [
    "scores = [score_0, score_1, score_2, score_3]\n",
    "\n",
    "fig, ax = plt.subplots(figsize=(12, 8))\n",
    "plt.bar(range(len(scores)), scores, width=0.8)\n",
    "plt.ylabel('RMSE')\n",
    "plt.ylim([25, 30])"
   ]
  },
  {
   "cell_type": "code",
   "execution_count": 13,
   "metadata": {},
   "outputs": [
    {
     "name": "stdout",
     "output_type": "stream",
     "text": [
      "IntersectionId: 0.00000\n",
      "Latitude: 0.04688\n",
      "Longitude: 0.00469\n",
      "EntryHeading: 0.00000\n",
      "ExitHeading: 0.00000\n",
      "Hour: 0.21991\n",
      "Weekend: 0.04080\n",
      "Month: 0.00000\n",
      "TurnDegree: 0.61952\n",
      "City_Atlanta: 0.00000\n",
      "City_Boston: 0.00000\n",
      "City_Chicago: 0.00000\n",
      "City_Philadelphia: 0.06820\n"
     ]
    }
   ],
   "source": [
    "for i in zip(X_3.columns, model_3.feature_importances_):\n",
    "    print(f'{i[0]}: {i[1]:0.5f}')"
   ]
  },
  {
   "cell_type": "markdown",
   "metadata": {},
   "source": [
    "## Train over entire training sample and predict target variables for the test set"
   ]
  },
  {
   "cell_type": "code",
   "execution_count": 14,
   "metadata": {},
   "outputs": [
    {
     "name": "stdout",
     "output_type": "stream",
     "text": [
      "Training to predict DistanceToFirstStop_p80\n",
      "      Iter       Train Loss   Remaining Time \n",
      "         1       23163.2395           47.42s\n",
      "         2       23060.9458           44.68s\n",
      "         3       22975.6533           41.95s\n",
      "         4       22818.6169           40.40s\n",
      "         5       22691.3982           39.61s\n",
      "         6       22555.6977           37.34s\n",
      "         7       22494.6014           36.41s\n",
      "         8       22437.7438           35.90s\n",
      "         9       22356.7341           34.78s\n",
      "        10       22260.0647           33.70s\n",
      "        20       21904.0679           28.73s\n",
      "        30       21520.0457           24.35s\n",
      "        40       21315.5945           20.41s\n",
      "        50       21140.6660           16.89s\n",
      "        60       20950.3102           13.30s\n",
      "        70       20678.0775            9.87s\n",
      "        80       20502.5257            6.55s\n",
      "        90       20362.1182            3.25s\n",
      "       100       20202.8996            0.00s\n"
     ]
    }
   ],
   "source": [
    "percentiles = [20, 50, 80]\n",
    "test_vars = [f'TotalTimeStopped_p{i}' for i in percentiles]\n",
    "test_vars += [f'DistanceToFirstStop_p{i}' for i in percentiles]\n",
    "\n",
    "# Using X_2 as X_3 didn't get anywhere...\n",
    "X_train = X_2\n",
    "X_test = df_test.drop(columns=['RowId', 'EntryStreetName', 'ExitStreetName', 'Path', 'City'])\n",
    "X_test = direction_to_numbers(X_test)\n",
    "X_test = turn_degrees(X_test)\n",
    "\n",
    "predictions = {}\n",
    "for var in test_vars:\n",
    "    clear_output(wait=True)\n",
    "    print(f'Training to predict {var}')\n",
    "    y_train = df_train[var]\n",
    "    predictions[var] = train_model(\n",
    "        X_train, y_train, X_test,\n",
    "        Model=GradientBoostingRegressor,\n",
    "        model_args={'n_estimators': 100, 'verbose': 1}\n",
    "    )\n",
    "df_predict = pd.DataFrame(predictions)"
   ]
  },
  {
   "cell_type": "code",
   "execution_count": 15,
   "metadata": {},
   "outputs": [],
   "source": [
    "# Write out .csv file for submission\n",
    "write_solution(df_predict)"
   ]
  }
 ],
 "metadata": {
  "kernelspec": {
   "display_name": "Python 3",
   "language": "python",
   "name": "python3"
  },
  "language_info": {
   "codemirror_mode": {
    "name": "ipython",
    "version": 3
   },
   "file_extension": ".py",
   "mimetype": "text/x-python",
   "name": "python",
   "nbconvert_exporter": "python",
   "pygments_lexer": "ipython3",
   "version": "3.7.3"
  }
 },
 "nbformat": 4,
 "nbformat_minor": 4
}
