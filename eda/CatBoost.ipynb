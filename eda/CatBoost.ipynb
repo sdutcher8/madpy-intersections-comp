{
 "cells": [
  {
   "cell_type": "code",
   "execution_count": 15,
   "metadata": {},
   "outputs": [],
   "source": [
    "from catboost import CatBoostRegressor, FeaturesData, Pool\n",
    "import read_data\n",
    "import numpy as np\n",
    "import pandas as pd\n",
    "from sklearn.model_selection import train_test_split\n",
    "from sklearn.metrics import mean_squared_error\n",
    "import warnings\n",
    "warnings.filterwarnings(\"ignore\", category=UserWarning) \n",
    "\n",
    "df = read_data.read_data('Chicago')\n",
    "df_train, df_test = train_test_split(df, train_size=0.8)\n",
    "\n",
    "num_features = ['TurnDegree', 'Latitude', 'Longitude',]\n",
    "cat_features = ['Hour', 'Month', 'Weekend', \n",
    "                'EntryHeading', 'ExitHeading', 'EnterHighway', 'ExitHighway']\n",
    "\n",
    "X = FeaturesData(\n",
    "    num_feature_data=df_train[num_features].values.astype(np.float32),\n",
    "    cat_feature_data=df_train[cat_features].values.astype(str).astype(np.object),\n",
    ")\n",
    "testX = FeaturesData(\n",
    "    num_feature_data=df_test[num_features].values.astype(np.float32),\n",
    "    cat_feature_data=df_test[cat_features].values.astype(str).astype(np.object),\n",
    ")"
   ]
  },
  {
   "cell_type": "code",
   "execution_count": 16,
   "metadata": {
    "scrolled": true
   },
   "outputs": [
    {
     "name": "stdout",
     "output_type": "stream",
     "text": [
      "0:\tlearn: 7.6476519\ttotal: 157ms\tremaining: 1m 49s\n",
      "350:\tlearn: 6.8104850\ttotal: 52.4s\tremaining: 52.1s\n",
      "699:\tlearn: 6.5178002\ttotal: 1m 37s\tremaining: 0us\n",
      "TotalTimeStopped_p20 50.21818866864098\n",
      "0:\tlearn: 14.9005150\ttotal: 139ms\tremaining: 1m 37s\n",
      "350:\tlearn: 12.7410424\ttotal: 47.7s\tremaining: 47.4s\n",
      "699:\tlearn: 12.0625026\ttotal: 1m 38s\tremaining: 0us\n",
      "TotalTimeStopped_p50 164.14569540106731\n",
      "0:\tlearn: 25.4011772\ttotal: 88.2ms\tremaining: 1m 1s\n",
      "350:\tlearn: 21.5375026\ttotal: 53.7s\tremaining: 53.4s\n",
      "699:\tlearn: 20.2987395\ttotal: 1m 47s\tremaining: 0us\n",
      "TotalTimeStopped_p80 461.93983502988186\n",
      "0:\tlearn: 25.2634657\ttotal: 151ms\tremaining: 1m 45s\n",
      "350:\tlearn: 22.8233625\ttotal: 52.7s\tremaining: 52.4s\n",
      "699:\tlearn: 21.9618310\ttotal: 1m 44s\tremaining: 0us\n",
      "DistanceToFirstStop_p20 611.8799412744714\n",
      "0:\tlearn: 48.7851000\ttotal: 149ms\tremaining: 1m 44s\n",
      "350:\tlearn: 42.4292810\ttotal: 49.6s\tremaining: 49.3s\n",
      "699:\tlearn: 40.1975723\ttotal: 1m 37s\tremaining: 0us\n",
      "DistanceToFirstStop_p50 1950.7266919057593\n",
      "0:\tlearn: 85.6011315\ttotal: 150ms\tremaining: 1m 44s\n",
      "350:\tlearn: 70.0146831\ttotal: 52.4s\tremaining: 52.1s\n",
      "699:\tlearn: 65.9643784\ttotal: 1m 42s\tremaining: 0us\n",
      "DistanceToFirstStop_p80 5539.688258753816\n"
     ]
    }
   ],
   "source": [
    "predict_vars = ['TotalTimeStopped_p20','TotalTimeStopped_p50','TotalTimeStopped_p80',\n",
    "                  'DistanceToFirstStop_p20','DistanceToFirstStop_p50','DistanceToFirstStop_p80']\n",
    "results = {}\n",
    "for pv in predict_vars:\n",
    "    cb_model = CatBoostRegressor(iterations=700,\n",
    "                             learning_rate=0.02,\n",
    "                             depth=12,\n",
    "                             eval_metric='RMSE',\n",
    "                             random_seed = 23,\n",
    "                             bagging_temperature = 0.2,\n",
    "                             od_type='Iter',\n",
    "                             metric_period = 350,\n",
    "                             od_wait=100)\n",
    "    cb_model.fit(X, df_train[pv])\n",
    "    pred=cb_model.predict(testX)\n",
    "    results[pv] = pred\n",
    "    print(pv, mean_squared_error(pred, df_test[pv]))"
   ]
  },
  {
   "cell_type": "code",
   "execution_count": 19,
   "metadata": {},
   "outputs": [
    {
     "name": "stdout",
     "output_type": "stream",
     "text": [
      "TotalTimeStopped_p20 RMSE= 7.086479285840111\n",
      "TotalTimeStopped_p50 RMSE= 12.811935661759597\n",
      "TotalTimeStopped_p80 RMSE= 21.492785650768536\n",
      "DistanceToFirstStop_p20 RMSE= 24.73620709151812\n",
      "DistanceToFirstStop_p50 RMSE= 44.16703173075772\n",
      "DistanceToFirstStop_p80 RMSE= 74.42908207652313\n",
      "Total RMSE= 38.25048716690555\n"
     ]
    }
   ],
   "source": [
    "p = []\n",
    "t = []\n",
    "for k in predict_vars:\n",
    "    t.append(df_test[k])\n",
    "    p.append(results[k])\n",
    "    mse = mean_squared_error(results[k],df_test[k])\n",
    "    print(k, 'RMSE=', np.sqrt(mse))\n",
    "print('Total RMSE=', np.sqrt(mean_squared_error(p,t)))"
   ]
  },
  {
   "cell_type": "code",
   "execution_count": null,
   "metadata": {
    "collapsed": true
   },
   "outputs": [],
   "source": []
  }
 ],
 "metadata": {
  "kernelspec": {
   "display_name": "Python 3",
   "language": "python",
   "name": "python3"
  },
  "language_info": {
   "codemirror_mode": {
    "name": "ipython",
    "version": 3
   },
   "file_extension": ".py",
   "mimetype": "text/x-python",
   "name": "python",
   "nbconvert_exporter": "python",
   "pygments_lexer": "ipython3",
   "version": "3.6.2"
  }
 },
 "nbformat": 4,
 "nbformat_minor": 2
}
